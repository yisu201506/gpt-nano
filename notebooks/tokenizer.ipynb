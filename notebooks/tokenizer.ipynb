{
 "cells": [
  {
   "cell_type": "markdown",
   "id": "3860d994-1efc-4b0c-87cf-89c1bdd8225d",
   "metadata": {},
   "source": [
    "# Tokenization :)\n",
    "\n",
    "Tokenization is at the heart of much weirdness of LLMs. Do not brush it off.\n",
    "\n",
    "- Why can't LLM spell words? **Tokenization**.\n",
    "- Why can't LLM do super simple string processing tasks like reversing a string? **Tokenization**.\n",
    "- Why is LLM worse at non-English languages (e.g. Japanese)? **Tokenization**.\n",
    "- Why is LLM bad at simple arithmetic? **Tokenization**.\n",
    "- Why did GPT-2 have more than necessary trouble coding in Python? **Tokenization**.\n",
    "- Why did my LLM abruptly halt when it sees the string \"<|endoftext|>\"? **Tokenization**.\n",
    "- What is this weird warning I get about a \"trailing whitespace\"? **Tokenization**.\n",
    "- Why the LLM break if I ask it about \"SolidGoldMagikarp\"? **Tokenization**.\n",
    "- Why should I prefer to use YAML over JSON with LLMs? **Tokenization**.\n",
    "- Why is LLM not actually end-to-end language modeling? **Tokenization**.\n",
    "- What is the real root of suffering? **Tokenization**.\n",
    "\n",
    "---\n",
    "\n",
    "Good tokenization web app: [https://tiktokenizer.vercel.app](https://tiktokenizer.vercel.app)\n",
    "\n",
    "Example string:\n",
    "\n",
    "```\n",
    "Tokenization is at the heart of much weirdness of LLMs. Do not brush it off.\n",
    "\n",
    "127 + 677 = 804\n",
    "1275 + 6773 = 8041\n",
    "\n",
    "Egg.\n",
    "I have an Egg.\n",
    "egg.\n",
    "EGG.\n",
    "\n",
    "만나서 반가워요. 저는 OpenAI에서 개발한 대규모 언어 모델인 ChatGPT입니다. 궁금한 것이 있으시면 무엇이든 물어보세요.\n",
    "\n",
    "for i in range(1, 101):\n",
    "    if i % 3 == 0 and i % 5 == 0:\n",
    "        print(\"FizzBuzz\")\n",
    "    elif i % 3 == 0:\n",
    "        print(\"Fizz\")\n",
    "    elif i % 5 == 0:\n",
    "        print(\"Buzz\")\n",
    "    else:\n",
    "        print(i)\n",
    "```\n",
    "\n",
    "---\n",
    "\n",
    "Much glory awaits someone who can delete the need for tokenization. But meanwhile, let's learn about it.\n"
   ]
  },
  {
   "cell_type": "code",
   "execution_count": 7,
   "id": "b184904b-93d0-4a5a-8cef-0ab1003eb4e5",
   "metadata": {},
   "outputs": [
    {
     "data": {
      "text/plain": [
       "'안녕하세요 👋 (hello in Korean!)'"
      ]
     },
     "execution_count": 7,
     "metadata": {},
     "output_type": "execute_result"
    }
   ],
   "source": [
    "\"안녕하세요 👋 (hello in Korean!)\""
   ]
  },
  {
   "cell_type": "code",
   "execution_count": 32,
   "id": "bc7b739f-e758-4b15-8baf-469188abd773",
   "metadata": {},
   "outputs": [
    {
     "name": "stdout",
     "output_type": "stream",
     "text": [
      "---\n",
      "Ｕｎｉｃｏｄｅ! 🅤🅝🅘🅒🅞🅓🅔‽ 🇺‌🇳‌🇮‌🇨‌🇴‌🇩‌🇪! 😄 The very name strikes fear and awe into the hearts of programmers worldwide. We all know we ought to “support Unicode” in our software (whatever that means—like using wchar_t for all the strings, right?). But Unicode can be abstruse, and diving into the thousand-page Unicode Standard plus its dozens of supplementary annexes, reports, and notes can be more than a little intimidating. I don’t blame programmers for still finding the whole thing mysterious, even 30 years after Unicode’s inception.\n",
      "length: 533\n",
      "---\n",
      "[239, 188, 181, 239, 189, 142, 239, 189, 137, 239, 189, 131, 239, 189, 143, 239, 189, 132, 239, 189, 133, 33, 32, 240, 159, 133, 164, 240, 159, 133, 157, 240, 159, 133, 152, 240, 159, 133, 146, 240, 159, 133, 158, 240, 159, 133, 147, 240, 159, 133, 148, 226, 128, 189, 32, 240, 159, 135, 186, 226, 128, 140, 240, 159, 135, 179, 226, 128, 140, 240, 159, 135, 174, 226, 128, 140, 240, 159, 135, 168, 226, 128, 140, 240, 159, 135, 180, 226, 128, 140, 240, 159, 135, 169, 226, 128, 140, 240, 159, 135, 170, 33, 32, 240, 159, 152, 132, 32, 84, 104, 101, 32, 118, 101, 114, 121, 32, 110, 97, 109, 101, 32, 115, 116, 114, 105, 107, 101, 115, 32, 102, 101, 97, 114, 32, 97, 110, 100, 32, 97, 119, 101, 32, 105, 110, 116, 111, 32, 116, 104, 101, 32, 104, 101, 97, 114, 116, 115, 32, 111, 102, 32, 112, 114, 111, 103, 114, 97, 109, 109, 101, 114, 115, 32, 119, 111, 114, 108, 100, 119, 105, 100, 101, 46, 32, 87, 101, 32, 97, 108, 108, 32, 107, 110, 111, 119, 32, 119, 101, 32, 111, 117, 103, 104, 116, 32, 116, 111, 32, 226, 128, 156, 115, 117, 112, 112, 111, 114, 116, 32, 85, 110, 105, 99, 111, 100, 101, 226, 128, 157, 32, 105, 110, 32, 111, 117, 114, 32, 115, 111, 102, 116, 119, 97, 114, 101, 32, 40, 119, 104, 97, 116, 101, 118, 101, 114, 32, 116, 104, 97, 116, 32, 109, 101, 97, 110, 115, 226, 128, 148, 108, 105, 107, 101, 32, 117, 115, 105, 110, 103, 32, 119, 99, 104, 97, 114, 95, 116, 32, 102, 111, 114, 32, 97, 108, 108, 32, 116, 104, 101, 32, 115, 116, 114, 105, 110, 103, 115, 44, 32, 114, 105, 103, 104, 116, 63, 41, 46, 32, 66, 117, 116, 32, 85, 110, 105, 99, 111, 100, 101, 32, 99, 97, 110, 32, 98, 101, 32, 97, 98, 115, 116, 114, 117, 115, 101, 44, 32, 97, 110, 100, 32, 100, 105, 118, 105, 110, 103, 32, 105, 110, 116, 111, 32, 116, 104, 101, 32, 116, 104, 111, 117, 115, 97, 110, 100, 45, 112, 97, 103, 101, 32, 85, 110, 105, 99, 111, 100, 101, 32, 83, 116, 97, 110, 100, 97, 114, 100, 32, 112, 108, 117, 115, 32, 105, 116, 115, 32, 100, 111, 122, 101, 110, 115, 32, 111, 102, 32, 115, 117, 112, 112, 108, 101, 109, 101, 110, 116, 97, 114, 121, 32, 97, 110, 110, 101, 120, 101, 115, 44, 32, 114, 101, 112, 111, 114, 116, 115, 44, 32, 97, 110, 100, 32, 110, 111, 116, 101, 115, 32, 99, 97, 110, 32, 98, 101, 32, 109, 111, 114, 101, 32, 116, 104, 97, 110, 32, 97, 32, 108, 105, 116, 116, 108, 101, 32, 105, 110, 116, 105, 109, 105, 100, 97, 116, 105, 110, 103, 46, 32, 73, 32, 100, 111, 110, 226, 128, 153, 116, 32, 98, 108, 97, 109, 101, 32, 112, 114, 111, 103, 114, 97, 109, 109, 101, 114, 115, 32, 102, 111, 114, 32, 115, 116, 105, 108, 108, 32, 102, 105, 110, 100, 105, 110, 103, 32, 116, 104, 101, 32, 119, 104, 111, 108, 101, 32, 116, 104, 105, 110, 103, 32, 109, 121, 115, 116, 101, 114, 105, 111, 117, 115, 44, 32, 101, 118, 101, 110, 32, 51, 48, 32, 121, 101, 97, 114, 115, 32, 97, 102, 116, 101, 114, 32, 85, 110, 105, 99, 111, 100, 101, 226, 128, 153, 115, 32, 105, 110, 99, 101, 112, 116, 105, 111, 110, 46]\n",
      "length: 616\n"
     ]
    }
   ],
   "source": [
    "# text from https://www.reedbeta.com/blog/programmers-intro-to-unicode/\n",
    "text = \"Ｕｎｉｃｏｄｅ! 🅤🅝🅘🅒🅞🅓🅔‽ 🇺‌🇳‌🇮‌🇨‌🇴‌🇩‌🇪! 😄 The very name strikes fear and awe into the hearts of programmers worldwide. We all know we ought to “support Unicode” in our software (whatever that means—like using wchar_t for all the strings, right?). But Unicode can be abstruse, and diving into the thousand-page Unicode Standard plus its dozens of supplementary annexes, reports, and notes can be more than a little intimidating. I don’t blame programmers for still finding the whole thing mysterious, even 30 years after Unicode’s inception.\"\n",
    "tokens = text.encode(\"utf-8\") # raw bytes\n",
    "tokens = list(map(int, tokens)) # convert to a list of integers in range 0..255 for convenience\n",
    "print('---')\n",
    "print(text)\n",
    "print(\"length:\", len(text))\n",
    "print('---')\n",
    "print(tokens)\n",
    "print(\"length:\", len(tokens))"
   ]
  },
  {
   "cell_type": "code",
   "execution_count": 33,
   "id": "9e0f95cd-224f-4fb5-a096-4fc9728440e7",
   "metadata": {},
   "outputs": [],
   "source": [
    "from collections import Counter\n",
    "\n",
    "def get_stats(tokens):\n",
    "    pairs = zip(tokens[:-1], tokens[1:])\n",
    "    count = Counter(pairs)\n",
    "    return max(count, key=count.get), count\n",
    "\n",
    "pair, count = get_stats(tokens)\n"
   ]
  },
  {
   "cell_type": "code",
   "execution_count": 34,
   "id": "8c5076f5-37bc-4892-af30-80859fdde8c3",
   "metadata": {},
   "outputs": [],
   "source": [
    "num_vocab = 255\n",
    "mint_trees = {}\n",
    "num_vocab += 1\n",
    "mint_trees[num_vocab] = pair\n",
    "\n",
    "def mint_token_and_merge(tokens, idx, pair):\n",
    "    new_tokens = []\n",
    "    i = 0\n",
    "    while i < len(tokens):\n",
    "        if i < len(tokens) - 1 and (tokens[i], tokens[i + 1]) == pair:\n",
    "            new_tokens.append(num_vocab)\n",
    "            i += 2\n",
    "        else:\n",
    "            new_tokens.append(tokens[i])\n",
    "            i += 1\n",
    "    return new_tokens\n",
    "\n",
    "new_tokens = mint_token_and_merge(tokens, pair)"
   ]
  },
  {
   "cell_type": "markdown",
   "id": "73d1214e-a059-481f-bd90-02661d9a186e",
   "metadata": {},
   "source": [
    "# More Tokens in the Text"
   ]
  },
  {
   "cell_type": "code",
   "execution_count": 43,
   "id": "bba0cff8-739a-4b49-84ad-ff295074dd28",
   "metadata": {},
   "outputs": [
    {
     "name": "stdout",
     "output_type": "stream",
     "text": [
      "length of tokens is 24597\n"
     ]
    }
   ],
   "source": [
    "from collections import Counter\n",
    "# making the training text longer to have more representative token statistics\n",
    "# text from https://www.reedbeta.com/blog/programmers-intro-to-unicode/\n",
    "text = \"\"\"A Programmer’s Introduction to Unicode March 3, 2017 · Coding · 22 Comments  Ｕｎｉｃｏｄｅ! 🅤🅝🅘🅒🅞🅓🅔‽ 🇺\\u200c🇳\\u200c🇮\\u200c🇨\\u200c🇴\\u200c🇩\\u200c🇪! 😄 The very name strikes fear and awe into the hearts of programmers worldwide. We all know we ought to “support Unicode” in our software (whatever that means—like using wchar_t for all the strings, right?). But Unicode can be abstruse, and diving into the thousand-page Unicode Standard plus its dozens of supplementary annexes, reports, and notes can be more than a little intimidating. I don’t blame programmers for still finding the whole thing mysterious, even 30 years after Unicode’s inception.  A few months ago, I got interested in Unicode and decided to spend some time learning more about it in detail. In this article, I’ll give an introduction to it from a programmer’s point of view.  I’m going to focus on the character set and what’s involved in working with strings and files of Unicode text. However, in this article I’m not going to talk about fonts, text layout/shaping/rendering, or localization in detail—those are separate issues, beyond my scope (and knowledge) here.  Diversity and Inherent Complexity The Unicode Codespace Codespace Allocation Scripts Usage Frequency Encodings UTF-8 UTF-16 Combining Marks Canonical Equivalence Normalization Forms Grapheme Clusters And More… Diversity and Inherent Complexity As soon as you start to study Unicode, it becomes clear that it represents a large jump in complexity over character sets like ASCII that you may be more familiar with. It’s not just that Unicode contains a much larger number of characters, although that’s part of it. Unicode also has a great deal of internal structure, features, and special cases, making it much more than what one might expect a mere “character set” to be. We’ll see some of that later in this article.  When confronting all this complexity, especially as an engineer, it’s hard not to find oneself asking, “Why do we need all this? Is this really necessary? Couldn’t it be simplified?”  However, Unicode aims to faithfully represent the entire world’s writing systems. The Unicode Consortium’s stated goal is “enabling people around the world to use computers in any language”. And as you might imagine, the diversity of written languages is immense! To date, Unicode supports 135 different scripts, covering some 1100 languages, and there’s still a long tail of over 100 unsupported scripts, both modern and historical, which people are still working to add.  Given this enormous diversity, it’s inevitable that representing it is a complicated project. Unicode embraces that diversity, and accepts the complexity inherent in its mission to include all human writing systems. It doesn’t make a lot of trade-offs in the name of simplification, and it makes exceptions to its own rules where necessary to further its mission.  Moreover, Unicode is committed not just to supporting texts in any single language, but also to letting multiple languages coexist within one text—which introduces even more complexity.  Most programming languages have libraries available to handle the gory low-level details of text manipulation, but as a programmer, you’ll still need to know about certain Unicode features in order to know when and how to apply them. It may take some time to wrap your head around it all, but don’t be discouraged—think about the billions of people for whom your software will be more accessible through supporting text in their language. Embrace the complexity!  The Unicode Codespace Let’s start with some general orientation. The basic elements of Unicode—its “characters”, although that term isn’t quite right—are called code points. Code points are identified by number, customarily written in hexadecimal with the prefix “U+”, such as U+0041 “A” latin capital letter a or U+03B8 “θ” greek small letter theta. Each code point also has a short name, and quite a few other properties, specified in the Unicode Character Database.  The set of all possible code points is called the codespace. The Unicode codespace consists of 1,114,112 code points. However, only 128,237 of them—about 12% of the codespace—are actually assigned, to date. There’s plenty of room for growth! Unicode also reserves an additional 137,468 code points as “private use” areas, which have no standardized meaning and are available for individual applications to define for their own purposes.  Codespace Allocation To get a feel for how the codespace is laid out, it’s helpful to visualize it. Below is a map of the entire codespace, with one pixel per code point. It’s arranged in tiles for visual coherence; each small square is 16×16 = 256 code points, and each large square is a “plane” of 65,536 code points. There are 17 planes altogether.  Map of the Unicode codespace (click to zoom)  White represents unassigned space. Blue is assigned code points, green is private-use areas, and the small red area is surrogates (more about those later). As you can see, the assigned code points are distributed somewhat sparsely, but concentrated in the first three planes.  Plane 0 is also known as the “Basic Multilingual Plane”, or BMP. The BMP contains essentially all the characters needed for modern text in any script, including Latin, Cyrillic, Greek, Han (Chinese), Japanese, Korean, Arabic, Hebrew, Devanagari (Indian), and many more.  (In the past, the codespace was just the BMP and no more—Unicode was originally conceived as a straightforward 16-bit encoding, with only 65,536 code points. It was expanded to its current size in 1996. However, the vast majority of code points in modern text belong to the BMP.)  Plane 1 contains historical scripts, such as Sumerian cuneiform and Egyptian hieroglyphs, as well as emoji and various other symbols. Plane 2 contains a large block of less-common and historical Han characters. The remaining planes are empty, except for a small number of rarely-used formatting characters in Plane 14; planes 15–16 are reserved entirely for private use.  Scripts Let’s zoom in on the first three planes, since that’s where the action is:  Map of scripts in Unicode planes 0–2 (click to zoom)  This map color-codes the 135 different scripts in Unicode. You can see how Han () and Korean () take up most of the range of the BMP (the left large square). By contrast, all of the European, Middle Eastern, and South Asian scripts fit into the first row of the BMP in this diagram.  Many areas of the codespace are adapted or copied from earlier encodings. For example, the first 128 code points of Unicode are just a copy of ASCII. This has clear benefits for compatibility—it’s easy to losslessly convert texts from smaller encodings into Unicode (and the other direction too, as long as no characters outside the smaller encoding are used).  Usage Frequency One more interesting way to visualize the codespace is to look at the distribution of usage—in other words, how often each code point is actually used in real-world texts. Below is a heat map of planes 0–2 based on a large sample of text from Wikipedia and Twitter (all languages). Frequency increases from black (never seen) through red and yellow to white.  Heat map of code point usage frequency in Unicode planes 0–2 (click to zoom)  You can see that the vast majority of this text sample lies in the BMP, with only scattered usage of code points from planes 1–2. The biggest exception is emoji, which show up here as the several bright squares in the bottom row of plane 1.  Encodings We’ve seen that Unicode code points are abstractly identified by their index in the codespace, ranging from U+0000 to U+10FFFF. But how do code points get represented as bytes, in memory or in a file?  The most convenient, computer-friendliest (and programmer-friendliest) thing to do would be to just store the code point index as a 32-bit integer. This works, but it consumes 4 bytes per code point, which is sort of a lot. Using 32-bit ints for Unicode will cost you a bunch of extra storage, memory, and performance in bandwidth-bound scenarios, if you work with a lot of text.  Consequently, there are several more-compact encodings for Unicode. The 32-bit integer encoding is officially called UTF-32 (UTF = “Unicode Transformation Format”), but it’s rarely used for storage. At most, it comes up sometimes as a temporary internal representation, for examining or operating on the code points in a string.  Much more commonly, you’ll see Unicode text encoded as either UTF-8 or UTF-16. These are both variable-length encodings, made up of 8-bit or 16-bit units, respectively. In these schemes, code points with smaller index values take up fewer bytes, which saves a lot of memory for typical texts. The trade-off is that processing UTF-8/16 texts is more programmatically involved, and likely slower.  UTF-8 In UTF-8, each code point is stored using 1 to 4 bytes, based on its index value.  UTF-8 uses a system of binary prefixes, in which the high bits of each byte mark whether it’s a single byte, the beginning of a multi-byte sequence, or a continuation byte; the remaining bits, concatenated, give the code point index. This table shows how it works:  UTF-8 (binary)\\tCode point (binary)\\tRange 0xxxxxxx\\txxxxxxx\\tU+0000–U+007F 110xxxxx 10yyyyyy\\txxxxxyyyyyy\\tU+0080–U+07FF 1110xxxx 10yyyyyy 10zzzzzz\\txxxxyyyyyyzzzzzz\\tU+0800–U+FFFF 11110xxx 10yyyyyy 10zzzzzz 10wwwwww\\txxxyyyyyyzzzzzzwwwwww\\tU+10000–U+10FFFF A handy property of UTF-8 is that code points below 128 (ASCII characters) are encoded as single bytes, and all non-ASCII code points are encoded using sequences of bytes 128–255. This has a couple of nice consequences. First, any strings or files out there that are already in ASCII can also be interpreted as UTF-8 without any conversion. Second, lots of widely-used string programming idioms—such as null termination, or delimiters (newlines, tabs, commas, slashes, etc.)—will just work on UTF-8 strings. ASCII bytes never occur inside the encoding of non-ASCII code points, so searching byte-wise for a null terminator or a delimiter will do the right thing.  Thanks to this convenience, it’s relatively simple to extend legacy ASCII programs and APIs to handle UTF-8 strings. UTF-8 is very widely used in the Unix/Linux and Web worlds, and many programmers argue UTF-8 should be the default encoding everywhere.  However, UTF-8 isn’t a drop-in replacement for ASCII strings in all respects. For instance, code that iterates over the “characters” in a string will need to decode UTF-8 and iterate over code points (or maybe grapheme clusters—more about those later), not bytes. When you measure the “length” of a string, you’ll need to think about whether you want the length in bytes, the length in code points, the width of the text when rendered, or something else.  UTF-16 The other encoding that you’re likely to encounter is UTF-16. It uses 16-bit words, with each code point stored as either 1 or 2 words.  Like UTF-8, we can express the UTF-16 encoding rules in the form of binary prefixes:  UTF-16 (binary)\\tCode point (binary)\\tRange xxxxxxxxxxxxxxxx\\txxxxxxxxxxxxxxxx\\tU+0000–U+FFFF 110110xxxxxxxxxx 110111yyyyyyyyyy\\txxxxxxxxxxyyyyyyyyyy + 0x10000\\tU+10000–U+10FFFF A more common way that people talk about UTF-16 encoding, though, is in terms of code points called “surrogates”. All the code points in the range U+D800–U+DFFF—or in other words, the code points that match the binary prefixes 110110 and 110111 in the table above—are reserved specifically for UTF-16 encoding, and don’t represent any valid characters on their own. They’re only meant to occur in the 2-word encoding pattern above, which is called a “surrogate pair”. Surrogate code points are illegal in any other context! They’re not allowed in UTF-8 or UTF-32 at all.  Historically, UTF-16 is a descendant of the original, pre-1996 versions of Unicode, in which there were only 65,536 code points. The original intention was that there would be no different “encodings”; Unicode was supposed to be a straightforward 16-bit character set. Later, the codespace was expanded to make room for a long tail of less-common (but still important) Han characters, which the Unicode designers didn’t originally plan for. Surrogates were then introduced, as—to put it bluntly—a kludge, allowing 16-bit encodings to access the new code points.  Today, Javascript uses UTF-16 as its standard string representation: if you ask for the length of a string, or iterate over it, etc., the result will be in UTF-16 words, with any code points outside the BMP expressed as surrogate pairs. UTF-16 is also used by the Microsoft Win32 APIs; though Win32 supports either 8-bit or 16-bit strings, the 8-bit version unaccountably still doesn’t support UTF-8—only legacy code-page encodings, like ANSI. This leaves UTF-16 as the only way to get proper Unicode support in Windows. (Update: in Win10 version 1903, they finally added UTF-8 support to the 8-bit APIs! 😊)  By the way, UTF-16’s words can be stored either little-endian or big-endian. Unicode has no opinion on that issue, though it does encourage the convention of putting U+FEFF zero width no-break space at the top of a UTF-16 file as a byte-order mark, to disambiguate the endianness. (If the file doesn’t match the system’s endianness, the BOM will be decoded as U+FFFE, which isn’t a valid code point.)  Combining Marks In the story so far, we’ve been focusing on code points. But in Unicode, a “character” can be more complicated than just an individual code point!  Unicode includes a system for dynamically composing characters, by combining multiple code points together. This is used in various ways to gain flexibility without causing a huge combinatorial explosion in the number of code points.  In European languages, for example, this shows up in the application of diacritics to letters. Unicode supports a wide range of diacritics, including acute and grave accents, umlauts, cedillas, and many more. All these diacritics can be applied to any letter of any alphabet—and in fact, multiple diacritics can be used on a single letter.  If Unicode tried to assign a distinct code point to every possible combination of letter and diacritics, things would rapidly get out of hand. Instead, the dynamic composition system enables you to construct the character you want, by starting with a base code point (the letter) and appending additional code points, called “combining marks”, to specify the diacritics. When a text renderer sees a sequence like this in a string, it automatically stacks the diacritics over or under the base letter to create a composed character.  For example, the accented character “Á” can be expressed as a string of two code points: U+0041 “A” latin capital letter a plus U+0301 “◌́” combining acute accent. This string automatically gets rendered as a single character: “Á”.  Now, Unicode does also include many “precomposed” code points, each representing a letter with some combination of diacritics already applied, such as U+00C1 “Á” latin capital letter a with acute or U+1EC7 “ệ” latin small letter e with circumflex and dot below. I suspect these are mostly inherited from older encodings that were assimilated into Unicode, and kept around for compatibility. In practice, there are precomposed code points for most of the common letter-with-diacritic combinations in European-script languages, so they don’t use dynamic composition that much in typical text.  Still, the system of combining marks does allow for an arbitrary number of diacritics to be stacked on any base character. The reductio-ad-absurdum of this is Zalgo text, which works by ͖͟ͅr͞aṋ̫̠̖͈̗d͖̻̹óm̪͙͕̗̝ļ͇̰͓̳̫ý͓̥̟͍ ̕s̫t̫̱͕̗̰̼̘͜a̼̩͖͇̠͈̣͝c̙͍k̖̱̹͍͘i̢n̨̺̝͇͇̟͙ģ̫̮͎̻̟ͅ ̕n̼̺͈͞u̮͙m̺̭̟̗͞e̞͓̰̤͓̫r̵o̖ṷs҉̪͍̭̬̝̤ ̮͉̝̞̗̟͠d̴̟̜̱͕͚i͇̫̼̯̭̜͡ḁ͙̻̼c̲̲̹r̨̠̹̣̰̦i̱t̤̻̤͍͙̘̕i̵̜̭̤̱͎c̵s ͘o̱̲͈̙͖͇̲͢n͘ ̜͈e̬̲̠̩ac͕̺̠͉h̷̪ ̺̣͖̱ḻ̫̬̝̹ḙ̙̺͙̭͓̲t̞̞͇̲͉͍t̷͔̪͉̲̻̠͙e̦̻͈͉͇r͇̭̭̬͖,̖́ ̜͙͓̣̭s̘̘͈o̱̰̤̲ͅ ̛̬̜̙t̼̦͕̱̹͕̥h̳̲͈͝ͅa̦t̻̲ ̻̟̭̦̖t̛̰̩h̠͕̳̝̫͕e͈̤̘͖̞͘y҉̝͙ ̷͉͔̰̠o̞̰v͈͈̳̘͜er̶f̰͈͔ḻ͕̘̫̺̲o̲̭͙͠ͅw̱̳̺ ͜t̸h͇̭͕̳͍e̖̯̟̠ ͍̞̜͔̩̪͜ļ͎̪̲͚i̝̲̹̙̩̹n̨̦̩̖ḙ̼̲̼͢ͅ ̬͝s̼͚̘̞͝p͙̘̻a̙c҉͉̜̤͈̯̖i̥͡n̦̠̱͟g̸̗̻̦̭̮̟ͅ ̳̪̠͖̳̯̕a̫͜n͝d͡ ̣̦̙ͅc̪̗r̴͙̮̦̹̳e͇͚̞͔̹̫͟a̙̺̙ț͔͎̘̹ͅe̥̩͍ a͖̪̜̮͙̹n̢͉̝ ͇͉͓̦̼́a̳͖̪̤̱p̖͔͔̟͇͎͠p̱͍̺ę̲͎͈̰̲̤̫a̯͜r̨̮̫̣̘a̩̯͖n̹̦̰͎̣̞̞c̨̦̱͔͎͍͖e̬͓͘ ̤̰̩͙̤̬͙o̵̼̻̬̻͇̮̪f̴ ̡̙̭͓͖̪̤“̸͙̠̼c̳̗͜o͏̼͙͔̮r̞̫̺̞̥̬ru̺̻̯͉̭̻̯p̰̥͓̣̫̙̤͢t̳͍̳̖ͅi̶͈̝͙̼̙̹o̡͔n̙̺̹̖̩͝ͅ”̨̗͖͚̩.̯͓  A few other places where dynamic character composition shows up in Unicode:  Vowel-pointing notation in Arabic and Hebrew. In these languages, words are normally spelled with some of their vowels left out. They then have diacritic notation to indicate the vowels (used in dictionaries, language-teaching materials, children’s books, and such). These diacritics are expressed with combining marks.  A Hebrew example, with niqqud:\\tאֶת דַלְתִּי הֵזִיז הֵנִיעַ, קֶטֶב לִשְׁכַּתִּי יָשׁוֹד Normal writing (no niqqud):\\tאת דלתי הזיז הניע, קטב לשכתי ישוד Devanagari, the script used to write Hindi, Sanskrit, and many other South Asian languages, expresses certain vowels as combining marks attached to consonant letters. For example, “ह” + “\\u200bि” = “हि” (“h” + “i” = “hi”). Korean characters stand for syllables, but they are composed of letters called jamo that stand for the vowels and consonants in the syllable. While there are code points for precomposed Korean syllables, it’s also possible to dynamically compose them by concatenating their jamo. For example, “ᄒ” + “ᅡ” + “ᆫ” = “한” (“h” + “a” + “n” = “han”). Canonical Equivalence In Unicode, precomposed characters exist alongside the dynamic composition system. A consequence of this is that there are multiple ways to express “the same” string—different sequences of code points that result in the same user-perceived characters. For example, as we saw earlier, we can express the character “Á” either as the single code point U+00C1, or as the string of two code points U+0041 U+0301.  Another source of ambiguity is the ordering of multiple diacritics in a single character. Diacritic order matters visually when two diacritics apply to the same side of the base character, e.g. both above: “ǡ” (dot, then macron) is different from “ā̇” (macron, then dot). However, when diacritics apply to different sides of the character, e.g. one above and one below, then the order doesn’t affect rendering. Moreover, a character with multiple diacritics might have one of the diacritics precomposed and others expressed as combining marks.  For example, the Vietnamese letter “ệ” can be expressed in five different ways:  Fully precomposed: U+1EC7 “ệ” Partially precomposed: U+1EB9 “ẹ” + U+0302 “◌̂” Partially precomposed: U+00EA “ê” + U+0323 “◌̣” Fully decomposed: U+0065 “e” + U+0323 “◌̣” + U+0302 “◌̂” Fully decomposed: U+0065 “e” + U+0302 “◌̂” + U+0323 “◌̣” Unicode refers to set of strings like this as “canonically equivalent”. Canonically equivalent strings are supposed to be treated as identical for purposes of searching, sorting, rendering, text selection, and so on. This has implications for how you implement operations on text. For example, if an app has a “find in file” operation and the user searches for “ệ”, it should, by default, find occurrences of any of the five versions of “ệ” above!  Normalization Forms To address the problem of “how to handle canonically equivalent strings”, Unicode defines several normalization forms: ways of converting strings into a canonical form so that they can be compared code-point-by-code-point (or byte-by-byte).  The “NFD” normalization form fully decomposes every character down to its component base and combining marks, taking apart any precomposed code points in the string. It also sorts the combining marks in each character according to their rendered position, so e.g. diacritics that go below the character come before the ones that go above the character. (It doesn’t reorder diacritics in the same rendered position, since their order matters visually, as previously mentioned.)  The “NFC” form, conversely, puts things back together into precomposed code points as much as possible. If an unusual combination of diacritics is called for, there may not be any precomposed code point for it, in which case NFC still precomposes what it can and leaves any remaining combining marks in place (again ordered by rendered position, as in NFD).  There are also forms called NFKD and NFKC. The “K” here refers to compatibility decompositions, which cover characters that are “similar” in some sense but not visually identical. However, I’m not going to cover that here.  Grapheme Clusters As we’ve seen, Unicode contains various cases where a thing that a user thinks of as a single “character” might actually be made up of multiple code points under the hood. Unicode formalizes this using the notion of a grapheme cluster: a string of one or more code points that constitute a single “user-perceived character”.  UAX #29 defines the rules for what, precisely, qualifies as a grapheme cluster. It’s approximately “a base code point followed by any number of combining marks”, but the actual definition is a bit more complicated; it accounts for things like Korean jamo, and emoji ZWJ sequences.  The main thing grapheme clusters are used for is text editing: they’re often the most sensible unit for cursor placement and text selection boundaries. Using grapheme clusters for these purposes ensures that you can’t accidentally chop off some diacritics when you copy-and-paste text, that left/right arrow keys always move the cursor by one visible character, and so on.  Another place where grapheme clusters are useful is in enforcing a string length limit—say, on a database field. While the true, underlying limit might be something like the byte length of the string in UTF-8, you wouldn’t want to enforce that by just truncating bytes. At a minimum, you’d want to “round down” to the nearest code point boundary; but even better, round down to the nearest grapheme cluster boundary. Otherwise, you might be corrupting the last character by cutting off a diacritic, or interrupting a jamo sequence or ZWJ sequence.  And More… There’s much more that could be said about Unicode from a programmer’s perspective! I haven’t gotten into such fun topics as case mapping, collation, compatibility decompositions and confusables, Unicode-aware regexes, or bidirectional text. Nor have I said anything yet about implementation issues—how to efficiently store and look-up data about the sparsely-assigned code points, or how to optimize UTF-8 decoding, string comparison, or NFC normalization. Perhaps I’ll return to some of those things in future posts.  Unicode is a fascinating and complex system. It has a many-to-one mapping between bytes and code points, and on top of that a many-to-one (or, under some circumstances, many-to-many) mapping between code points and “characters”. It has oddball special cases in every corner. But no one ever claimed that representing all written languages was going to be easy, and it’s clear that we’re never going back to the bad old days of a patchwork of incompatible encodings.  Further reading:  The Unicode Standard UTF-8 Everywhere Manifesto Dark corners of Unicode by Eevee ICU (International Components for Unicode)—C/C++/Java libraries implementing many Unicode algorithms and related things Python 3 Unicode Howto Google Noto Fonts—set of fonts intended to cover all assigned code points\"\"\"\n",
    "tokens = text.encode(\"utf-8\") # raw bytes\n",
    "tokens = list(map(int, tokens)) # convert to a list of integers in range 0..255 for convenience\n",
    "print(f\"length of tokens is {len(tokens)}\")\n",
    "tokens_original = tokens[:]"
   ]
  },
  {
   "cell_type": "code",
   "execution_count": 44,
   "id": "5bd2835b-f3f8-49e5-8906-fe5e74f5ae66",
   "metadata": {},
   "outputs": [
    {
     "name": "stdout",
     "output_type": "stream",
     "text": [
      "length of tokens is 11577\n"
     ]
    }
   ],
   "source": [
    "def get_stats(tokens):\n",
    "    pairs = zip(tokens[:-1], tokens[1:])\n",
    "    count = Counter(pairs)\n",
    "    return max(count, key=count.get), count\n",
    "\n",
    "def mint_token_and_merge(tokens, idx, pair):\n",
    "    new_tokens = []\n",
    "    i = 0\n",
    "    while i < len(tokens):\n",
    "        if i < len(tokens) - 1 and (tokens[i], tokens[i + 1]) == pair:\n",
    "            new_tokens.append(idx)\n",
    "            i += 2\n",
    "        else:\n",
    "            new_tokens.append(tokens[i])\n",
    "            i += 1\n",
    "    return new_tokens\n",
    "\n",
    "idx = 255\n",
    "mint_trees = {}\n",
    "# decoder_trees = {}\n",
    "vocab_size = 500\n",
    "num_merges = vocab_size - idx\n",
    "\n",
    "for _ in range(num_merges):\n",
    "    pair, _ = get_stats(tokens)\n",
    "    idx += 1\n",
    "    mint_trees[pair] = idx\n",
    "    tokens = mint_token_and_merge(tokens, idx, pair)\n",
    "print(f\"length of tokens is {len(tokens)}\")"
   ]
  },
  {
   "cell_type": "code",
   "execution_count": 45,
   "id": "24d63ba5-9021-45ef-b79a-7a1f8c6e19ad",
   "metadata": {},
   "outputs": [
    {
     "name": "stdout",
     "output_type": "stream",
     "text": [
      "tokens length: 24597\n",
      "ids length: 11577\n",
      "compression ratio: 2.12X\n"
     ]
    }
   ],
   "source": [
    "print(\"tokens length:\", len(tokens_original))\n",
    "print(\"ids length:\", len(tokens))\n",
    "print(f\"compression ratio: {len(tokens_original) / len(tokens):.2f}X\")"
   ]
  },
  {
   "cell_type": "markdown",
   "id": "0c373154-6b3d-4b28-a416-ad94b282970f",
   "metadata": {},
   "source": [
    "Note, the Tokenizer is a completely separate, independent module from the LLM. It has its own training dataset of text (which could be different from that of the LLM), on which you train the vocabulary using the Byte Pair Encoding (BPE) algorithm. It then translates back and forth between raw text and sequences of tokens. The LLM later only ever sees the tokens and never directly deals with any text."
   ]
  },
  {
   "cell_type": "markdown",
   "id": "eb819be8-afbd-4b69-ab6c-174df018b258",
   "metadata": {},
   "source": [
    "![Screenshot 2024-02-14 at 8.23.33 AM.png](data:image/png;base64,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)"
   ]
  },
  {
   "cell_type": "markdown",
   "id": "c1c9ec92-8926-446a-bc7e-007c1ba6b307",
   "metadata": {},
   "source": [
    "### decoding\n",
    "\n",
    "Given a sequence of integers in the range [0, vocab_size], what is the text?\n"
   ]
  },
  {
   "cell_type": "code",
   "execution_count": 38,
   "id": "2daab3b1-a301-451f-be51-16f8dd097301",
   "metadata": {},
   "outputs": [
    {
     "data": {
      "text/plain": [
       "'ers end '"
      ]
     },
     "execution_count": 38,
     "metadata": {},
     "output_type": "execute_result"
    }
   ],
   "source": [
    "decoder_map = {i:bytes([i]) for i in range(256)}\n",
    "\n",
    "for (idx1, idx2), key in mint_trees.items():\n",
    "    decoder_map[key] = decoder_map[idx1] + decoder_map[idx2]\n",
    "\n",
    "def decode(ids):\n",
    "    res = b\"\".join([decoder_map[el] for el in ids])\n",
    "    return bytes(res).decode(\"utf-8\", errors=\"replace\")\n",
    "    \n",
    "ids = [260, 258, 269, 267]\n",
    "\n",
    "decode(ids)"
   ]
  },
  {
   "cell_type": "code",
   "execution_count": 47,
   "id": "5b01e3f3-12d9-49cf-9e58-689c78615ca1",
   "metadata": {},
   "outputs": [
    {
     "data": {
      "text/plain": [
       "{0: b'\\x00',\n",
       " 1: b'\\x01',\n",
       " 2: b'\\x02',\n",
       " 3: b'\\x03',\n",
       " 4: b'\\x04',\n",
       " 5: b'\\x05',\n",
       " 6: b'\\x06',\n",
       " 7: b'\\x07',\n",
       " 8: b'\\x08',\n",
       " 9: b'\\t',\n",
       " 10: b'\\n',\n",
       " 11: b'\\x0b',\n",
       " 12: b'\\x0c',\n",
       " 13: b'\\r',\n",
       " 14: b'\\x0e',\n",
       " 15: b'\\x0f',\n",
       " 16: b'\\x10',\n",
       " 17: b'\\x11',\n",
       " 18: b'\\x12',\n",
       " 19: b'\\x13',\n",
       " 20: b'\\x14',\n",
       " 21: b'\\x15',\n",
       " 22: b'\\x16',\n",
       " 23: b'\\x17',\n",
       " 24: b'\\x18',\n",
       " 25: b'\\x19',\n",
       " 26: b'\\x1a',\n",
       " 27: b'\\x1b',\n",
       " 28: b'\\x1c',\n",
       " 29: b'\\x1d',\n",
       " 30: b'\\x1e',\n",
       " 31: b'\\x1f',\n",
       " 32: b' ',\n",
       " 33: b'!',\n",
       " 34: b'\"',\n",
       " 35: b'#',\n",
       " 36: b'$',\n",
       " 37: b'%',\n",
       " 38: b'&',\n",
       " 39: b\"'\",\n",
       " 40: b'(',\n",
       " 41: b')',\n",
       " 42: b'*',\n",
       " 43: b'+',\n",
       " 44: b',',\n",
       " 45: b'-',\n",
       " 46: b'.',\n",
       " 47: b'/',\n",
       " 48: b'0',\n",
       " 49: b'1',\n",
       " 50: b'2',\n",
       " 51: b'3',\n",
       " 52: b'4',\n",
       " 53: b'5',\n",
       " 54: b'6',\n",
       " 55: b'7',\n",
       " 56: b'8',\n",
       " 57: b'9',\n",
       " 58: b':',\n",
       " 59: b';',\n",
       " 60: b'<',\n",
       " 61: b'=',\n",
       " 62: b'>',\n",
       " 63: b'?',\n",
       " 64: b'@',\n",
       " 65: b'A',\n",
       " 66: b'B',\n",
       " 67: b'C',\n",
       " 68: b'D',\n",
       " 69: b'E',\n",
       " 70: b'F',\n",
       " 71: b'G',\n",
       " 72: b'H',\n",
       " 73: b'I',\n",
       " 74: b'J',\n",
       " 75: b'K',\n",
       " 76: b'L',\n",
       " 77: b'M',\n",
       " 78: b'N',\n",
       " 79: b'O',\n",
       " 80: b'P',\n",
       " 81: b'Q',\n",
       " 82: b'R',\n",
       " 83: b'S',\n",
       " 84: b'T',\n",
       " 85: b'U',\n",
       " 86: b'V',\n",
       " 87: b'W',\n",
       " 88: b'X',\n",
       " 89: b'Y',\n",
       " 90: b'Z',\n",
       " 91: b'[',\n",
       " 92: b'\\\\',\n",
       " 93: b']',\n",
       " 94: b'^',\n",
       " 95: b'_',\n",
       " 96: b'`',\n",
       " 97: b'a',\n",
       " 98: b'b',\n",
       " 99: b'c',\n",
       " 100: b'd',\n",
       " 101: b'e',\n",
       " 102: b'f',\n",
       " 103: b'g',\n",
       " 104: b'h',\n",
       " 105: b'i',\n",
       " 106: b'j',\n",
       " 107: b'k',\n",
       " 108: b'l',\n",
       " 109: b'm',\n",
       " 110: b'n',\n",
       " 111: b'o',\n",
       " 112: b'p',\n",
       " 113: b'q',\n",
       " 114: b'r',\n",
       " 115: b's',\n",
       " 116: b't',\n",
       " 117: b'u',\n",
       " 118: b'v',\n",
       " 119: b'w',\n",
       " 120: b'x',\n",
       " 121: b'y',\n",
       " 122: b'z',\n",
       " 123: b'{',\n",
       " 124: b'|',\n",
       " 125: b'}',\n",
       " 126: b'~',\n",
       " 127: b'\\x7f',\n",
       " 128: b'\\x80',\n",
       " 129: b'\\x81',\n",
       " 130: b'\\x82',\n",
       " 131: b'\\x83',\n",
       " 132: b'\\x84',\n",
       " 133: b'\\x85',\n",
       " 134: b'\\x86',\n",
       " 135: b'\\x87',\n",
       " 136: b'\\x88',\n",
       " 137: b'\\x89',\n",
       " 138: b'\\x8a',\n",
       " 139: b'\\x8b',\n",
       " 140: b'\\x8c',\n",
       " 141: b'\\x8d',\n",
       " 142: b'\\x8e',\n",
       " 143: b'\\x8f',\n",
       " 144: b'\\x90',\n",
       " 145: b'\\x91',\n",
       " 146: b'\\x92',\n",
       " 147: b'\\x93',\n",
       " 148: b'\\x94',\n",
       " 149: b'\\x95',\n",
       " 150: b'\\x96',\n",
       " 151: b'\\x97',\n",
       " 152: b'\\x98',\n",
       " 153: b'\\x99',\n",
       " 154: b'\\x9a',\n",
       " 155: b'\\x9b',\n",
       " 156: b'\\x9c',\n",
       " 157: b'\\x9d',\n",
       " 158: b'\\x9e',\n",
       " 159: b'\\x9f',\n",
       " 160: b'\\xa0',\n",
       " 161: b'\\xa1',\n",
       " 162: b'\\xa2',\n",
       " 163: b'\\xa3',\n",
       " 164: b'\\xa4',\n",
       " 165: b'\\xa5',\n",
       " 166: b'\\xa6',\n",
       " 167: b'\\xa7',\n",
       " 168: b'\\xa8',\n",
       " 169: b'\\xa9',\n",
       " 170: b'\\xaa',\n",
       " 171: b'\\xab',\n",
       " 172: b'\\xac',\n",
       " 173: b'\\xad',\n",
       " 174: b'\\xae',\n",
       " 175: b'\\xaf',\n",
       " 176: b'\\xb0',\n",
       " 177: b'\\xb1',\n",
       " 178: b'\\xb2',\n",
       " 179: b'\\xb3',\n",
       " 180: b'\\xb4',\n",
       " 181: b'\\xb5',\n",
       " 182: b'\\xb6',\n",
       " 183: b'\\xb7',\n",
       " 184: b'\\xb8',\n",
       " 185: b'\\xb9',\n",
       " 186: b'\\xba',\n",
       " 187: b'\\xbb',\n",
       " 188: b'\\xbc',\n",
       " 189: b'\\xbd',\n",
       " 190: b'\\xbe',\n",
       " 191: b'\\xbf',\n",
       " 192: b'\\xc0',\n",
       " 193: b'\\xc1',\n",
       " 194: b'\\xc2',\n",
       " 195: b'\\xc3',\n",
       " 196: b'\\xc4',\n",
       " 197: b'\\xc5',\n",
       " 198: b'\\xc6',\n",
       " 199: b'\\xc7',\n",
       " 200: b'\\xc8',\n",
       " 201: b'\\xc9',\n",
       " 202: b'\\xca',\n",
       " 203: b'\\xcb',\n",
       " 204: b'\\xcc',\n",
       " 205: b'\\xcd',\n",
       " 206: b'\\xce',\n",
       " 207: b'\\xcf',\n",
       " 208: b'\\xd0',\n",
       " 209: b'\\xd1',\n",
       " 210: b'\\xd2',\n",
       " 211: b'\\xd3',\n",
       " 212: b'\\xd4',\n",
       " 213: b'\\xd5',\n",
       " 214: b'\\xd6',\n",
       " 215: b'\\xd7',\n",
       " 216: b'\\xd8',\n",
       " 217: b'\\xd9',\n",
       " 218: b'\\xda',\n",
       " 219: b'\\xdb',\n",
       " 220: b'\\xdc',\n",
       " 221: b'\\xdd',\n",
       " 222: b'\\xde',\n",
       " 223: b'\\xdf',\n",
       " 224: b'\\xe0',\n",
       " 225: b'\\xe1',\n",
       " 226: b'\\xe2',\n",
       " 227: b'\\xe3',\n",
       " 228: b'\\xe4',\n",
       " 229: b'\\xe5',\n",
       " 230: b'\\xe6',\n",
       " 231: b'\\xe7',\n",
       " 232: b'\\xe8',\n",
       " 233: b'\\xe9',\n",
       " 234: b'\\xea',\n",
       " 235: b'\\xeb',\n",
       " 236: b'\\xec',\n",
       " 237: b'\\xed',\n",
       " 238: b'\\xee',\n",
       " 239: b'\\xef',\n",
       " 240: b'\\xf0',\n",
       " 241: b'\\xf1',\n",
       " 242: b'\\xf2',\n",
       " 243: b'\\xf3',\n",
       " 244: b'\\xf4',\n",
       " 245: b'\\xf5',\n",
       " 246: b'\\xf6',\n",
       " 247: b'\\xf7',\n",
       " 248: b'\\xf8',\n",
       " 249: b'\\xf9',\n",
       " 250: b'\\xfa',\n",
       " 251: b'\\xfb',\n",
       " 252: b'\\xfc',\n",
       " 253: b'\\xfd',\n",
       " 254: b'\\xfe',\n",
       " 255: b'\\xff',\n",
       " 256: b'e ',\n",
       " 257: b'in',\n",
       " 258: b's ',\n",
       " 259: b'th',\n",
       " 260: b'er',\n",
       " 261: b'co',\n",
       " 262: b't ',\n",
       " 263: b'\\xe2\\x80',\n",
       " 264: b', ',\n",
       " 265: b'an',\n",
       " 266: b'or',\n",
       " 267: b'd ',\n",
       " 268: b'ar',\n",
       " 269: b'en',\n",
       " 270: b'ing',\n",
       " 271: b'cod',\n",
       " 272: b'y ',\n",
       " 273: b'. ',\n",
       " 274: b'al',\n",
       " 275: b'the ',\n",
       " 276: b'on',\n",
       " 277: b'o ',\n",
       " 278: b'ti',\n",
       " 279: b'ac',\n",
       " 280: b'es',\n",
       " 281: b'of',\n",
       " 282: b'code ',\n",
       " 283: b'po',\n",
       " 284: b'ing ',\n",
       " 285: b'of ',\n",
       " 286: b'ed ',\n",
       " 287: b'ter',\n",
       " 288: b'to ',\n",
       " 289: b'in ',\n",
       " 290: b'a ',\n",
       " 291: b'or ',\n",
       " 292: b'st',\n",
       " 293: b'ou',\n",
       " 294: b'ch',\n",
       " 295: b'xx',\n",
       " 296: b'ex',\n",
       " 297: b'es ',\n",
       " 298: b'\\xe2\\x80\\x9c',\n",
       " 299: b'\\xe2\\x80\\x9d',\n",
       " 300: b'com',\n",
       " 301: b'and ',\n",
       " 302: b'pl',\n",
       " 303: b'it',\n",
       " 304: b'poin',\n",
       " 305: b're',\n",
       " 306: b'\\xe2\\x80\\x99',\n",
       " 307: b'ni',\n",
       " 308: b'all',\n",
       " 309: b'at',\n",
       " 310: b'er ',\n",
       " 311: b'is ',\n",
       " 312: b'code poin',\n",
       " 313: b'as ',\n",
       " 314: b'Uni',\n",
       " 315: b'tion',\n",
       " 316: b'di',\n",
       " 317: b'ow',\n",
       " 318: b'ts ',\n",
       " 319: b'us',\n",
       " 320: b'\\xe2\\x80\\x9d ',\n",
       " 321: b'ri',\n",
       " 322: b'se',\n",
       " 323: b'si',\n",
       " 324: b'am',\n",
       " 325: b'at ',\n",
       " 326: b'ro',\n",
       " 327: b'Unicode ',\n",
       " 328: b's, ',\n",
       " 329: b'yy',\n",
       " 330: b'll',\n",
       " 331: b'.  ',\n",
       " 332: b'an ',\n",
       " 333: b'le',\n",
       " 334: b'char',\n",
       " 335: b'acter',\n",
       " 336: b'Th',\n",
       " 337: b'for ',\n",
       " 338: b'ab',\n",
       " 339: b'character',\n",
       " 340: b'UT',\n",
       " 341: b'UTF',\n",
       " 342: b'wi',\n",
       " 343: b'UTF-',\n",
       " 344: b'U+',\n",
       " 345: b'are ',\n",
       " 346: b'that ',\n",
       " 347: b'ap',\n",
       " 348: b'wh',\n",
       " 349: b'em',\n",
       " 350: b'su',\n",
       " 351: b'ic',\n",
       " 352: b'al ',\n",
       " 353: b'as',\n",
       " 354: b' of ',\n",
       " 355: b' \\xe2\\x80\\x9c',\n",
       " 356: b'it ',\n",
       " 357: b'om',\n",
       " 358: b'ver',\n",
       " 359: b'str',\n",
       " 360: b'e, ',\n",
       " 361: b'le ',\n",
       " 362: b'tic',\n",
       " 363: b'00',\n",
       " 364: b'ag',\n",
       " 365: b'ation',\n",
       " 366: b'con',\n",
       " 367: b'el',\n",
       " 368: b'xxxx',\n",
       " 369: b'\\xe2\\x80\\x99s ',\n",
       " 370: b'be ',\n",
       " 371: b'ch ',\n",
       " 372: b'en ',\n",
       " 373: b'th ',\n",
       " 374: b'qu',\n",
       " 375: b'res',\n",
       " 376: b'code points ',\n",
       " 377: b'tex',\n",
       " 378: b'\\xe2\\x80\\x94',\n",
       " 379: b'es, ',\n",
       " 380: b'll ',\n",
       " 381: b'on ',\n",
       " 382: b'16',\n",
       " 383: b'bin',\n",
       " 384: b'ally ',\n",
       " 385: b'. Th',\n",
       " 386: b'compo',\n",
       " 387: b'you',\n",
       " 388: b'de',\n",
       " 389: b'any ',\n",
       " 390: b'acri',\n",
       " 391: b'acritic',\n",
       " 392: b'gh',\n",
       " 393: b'fi',\n",
       " 394: b'UTF-8',\n",
       " 395: b'orm',\n",
       " 396: b'ere ',\n",
       " 397: b'code point',\n",
       " 398: b'encod',\n",
       " 399: b'by',\n",
       " 400: b'diacritic',\n",
       " 401: b'gr',\n",
       " 402: b' to ',\n",
       " 403: b'wor',\n",
       " 404: b'ang',\n",
       " 405: b'ther ',\n",
       " 406: b'FF',\n",
       " 407: b'ent',\n",
       " 408: b'mor',\n",
       " 409: b'pe',\n",
       " 410: b'ul',\n",
       " 411: b'pre',\n",
       " 412: b'byt',\n",
       " 413: b'zz',\n",
       " 414: b' s',\n",
       " 415: b'li',\n",
       " 416: b'ent ',\n",
       " 417: b'pres',\n",
       " 418: b'ma',\n",
       " 419: b'11',\n",
       " 420: b'\\x99\\xcc',\n",
       " 421: b'pro',\n",
       " 422: b'. I',\n",
       " 423: b'n ',\n",
       " 424: b'with ',\n",
       " 425: b'pac',\n",
       " 426: b'enc',\n",
       " 427: b'ur',\n",
       " 428: b'  ',\n",
       " 429: b'string',\n",
       " 430: b'\\xe2\\x80\\x99t ',\n",
       " 431: b'ta',\n",
       " 432: b'so ',\n",
       " 433: b'in the ',\n",
       " 434: b'let',\n",
       " 435: b'ei',\n",
       " 436: b'yyyy',\n",
       " 437: b'\\xcc\\xb2',\n",
       " 438: b'\\xf0\\x9f',\n",
       " 439: b'all ',\n",
       " 440: b'ow ',\n",
       " 441: b'ut ',\n",
       " 442: b'can ',\n",
       " 443: b'no',\n",
       " 444: b'more ',\n",
       " 445: b'out ',\n",
       " 446: b'il',\n",
       " 447: b've ',\n",
       " 448: b'UTF-8 ',\n",
       " 449: b'y, ',\n",
       " 450: b'un',\n",
       " 451: b'cl',\n",
       " 452: b's. ',\n",
       " 453: b'letter',\n",
       " 454: b'sed ',\n",
       " 455: b'combin',\n",
       " 456: b'diacritics ',\n",
       " 457: b'\\xcc\\xab',\n",
       " 458: b'this ',\n",
       " 459: b'der',\n",
       " 460: b'espac',\n",
       " 461: b'UTF-16',\n",
       " 462: b'you ',\n",
       " 463: b'um',\n",
       " 464: b'ne',\n",
       " 465: b'ple ',\n",
       " 466: b'ly ',\n",
       " 467: b'-b',\n",
       " 468: b'\\xcd\\x88',\n",
       " 469: b'ver ',\n",
       " 470: b'and',\n",
       " 471: b'ark',\n",
       " 472: b'as a ',\n",
       " 473: b'im',\n",
       " 474: b'lang',\n",
       " 475: b'langu',\n",
       " 476: b'languag',\n",
       " 477: b'whi',\n",
       " 478: b'which ',\n",
       " 479: b'by ',\n",
       " 480: b' U+',\n",
       " 481: b'\\xcd\\x96',\n",
       " 482: b'\\xcd\\x87',\n",
       " 483: b' \\xcc',\n",
       " 484: b'\\xcc\\xb1',\n",
       " 485: b' and ',\n",
       " 486: b'sup',\n",
       " 487: b'por',\n",
       " 488: b'Unicod',\n",
       " 489: b'ke ',\n",
       " 490: b'ing m',\n",
       " 491: b'som',\n",
       " 492: b'text ',\n",
       " 493: b'is',\n",
       " 494: b'ity ',\n",
       " 495: b'quenc',\n",
       " 496: b'de ',\n",
       " 497: b'code point ',\n",
       " 498: b'-bit ',\n",
       " 499: b'\\xe2\\x80\\x93',\n",
       " 500: b'\\xcc\\xb9'}"
      ]
     },
     "execution_count": 47,
     "metadata": {},
     "output_type": "execute_result"
    }
   ],
   "source": [
    "decoder_map"
   ]
  },
  {
   "cell_type": "markdown",
   "id": "cc0e3131-027f-40a1-94f8-ac43c0860a22",
   "metadata": {},
   "source": [
    "### encoding\n",
    "\n",
    "The other way around: Given a string, what are the tokens?\n"
   ]
  },
  {
   "cell_type": "code",
   "execution_count": 12,
   "id": "01e38c61-a9a1-4248-89e1-2d762cc937ea",
   "metadata": {},
   "outputs": [
    {
     "name": "stdout",
     "output_type": "stream",
     "text": [
      "CPU times: user 3 μs, sys: 1 μs, total: 4 μs\n",
      "Wall time: 6.91 μs\n"
     ]
    },
    {
     "data": {
      "text/plain": [
       "'hello world!'"
      ]
     },
     "execution_count": 12,
     "metadata": {},
     "output_type": "execute_result"
    }
   ],
   "source": [
    "%time\n",
    "\n",
    "def encode(text):\n",
    "    tokens = list(text.encode(\"utf-8\"))\n",
    "    while True:\n",
    "        new_tokens = []\n",
    "        i = 0\n",
    "        while i < len(tokens):\n",
    "            if i < len(tokens) - 1 and (tokens[i], tokens[i + 1]) in mint_trees:\n",
    "                new_tokens.append(mint_trees[(tokens[i], tokens[i + 1])])\n",
    "                i += 2\n",
    "            else:\n",
    "                new_tokens.append(tokens[i])\n",
    "                i += 1\n",
    "        if len(tokens) == len(new_tokens):\n",
    "            break\n",
    "        tokens = new_tokens[:]\n",
    "    \n",
    "    return tokens\n",
    "   \n",
    "\n",
    "# print(encode(\"hello world!\"))\n",
    "decode(encode(\"hello world!\"))"
   ]
  },
  {
   "cell_type": "code",
   "execution_count": 13,
   "id": "94f0c39b-17e2-4616-a847-e44d5d09d86b",
   "metadata": {},
   "outputs": [
    {
     "name": "stdout",
     "output_type": "stream",
     "text": [
      "True\n"
     ]
    }
   ],
   "source": [
    "text2 = decode(encode(text))\n",
    "print(text2 == text)"
   ]
  },
  {
   "cell_type": "code",
   "execution_count": 14,
   "id": "e7c06efa-1ec8-4dc3-b3cb-0a9e400a4d2a",
   "metadata": {},
   "outputs": [
    {
     "name": "stdout",
     "output_type": "stream",
     "text": [
      "True\n"
     ]
    }
   ],
   "source": [
    "valtext = \"Many common characters, including numerals, punctuation, and other symbols, are unified within the standard and are not treated as specific to any given writing system. Unicode encodes thousands of emoji, with the continued development thereof conducted by the Consortium as a part of the standard.[4] Moreover, the widespread adoption of Unicode was in large part responsible for the initial popularization of emoji outside of Japan. Unicode is ultimately capable of encoding more than 1.1 million characters.\"\n",
    "valtext2 = decode(encode(valtext))\n",
    "print(valtext2 == valtext)"
   ]
  },
  {
   "cell_type": "markdown",
   "id": "99ebf9a6-46ce-48fd-bdaf-c2166f2d8ed9",
   "metadata": {},
   "source": [
    "### Forced splits using regex patterns (GPT series)\n"
   ]
  },
  {
   "cell_type": "code",
   "execution_count": 15,
   "id": "713817a0-1e30-4927-b674-0d62bc9149f2",
   "metadata": {},
   "outputs": [
    {
     "name": "stdout",
     "output_type": "stream",
     "text": [
      "['Hello', \"'ve\", ' world', '123', ' how', \"'s\", ' are', '      ', ' you', '!!!?']\n"
     ]
    }
   ],
   "source": [
    "# first do split with the text first using regex, and then encode the each of the individual text segments. In the end, we concatenate all of the encoded integers. \n",
    "# | is for or\n",
    "# + is for one or more something\n",
    "# \" ?\\p{L}+\" is for optional space plus one or more letters\n",
    "# \" ?\\p{N}+\" is for optional space plus one or more numbers\n",
    "# \" ?[^\\s\\p{L}\\p{N}]+\" is for optional space plus one or more non-space, non-letters, non-numbers, i.e. punctuation\n",
    "# \"\\s+(?!\\S)\" whitespaces up to except the last whitespace.\n",
    "# \"\\s+\" whitespaces\n",
    "\n",
    "\n",
    "\n",
    "import regex as re\n",
    "gpt2pat = re.compile(r\"\"\"'s|'t|'re|'ve|'m|'ll|'d| ?\\p{L}+| ?\\p{N}+| ?[^\\s\\p{L}\\p{N}]+|\\s+(?!\\S)|\\s+\"\"\")\n",
    "\n",
    "\n",
    "print(re.findall(gpt2pat, \"Hello've world123 how's are       you!!!?\"))"
   ]
  },
  {
   "cell_type": "code",
   "execution_count": 16,
   "id": "89dc4e94-8c33-4650-a1ac-54488058fb9b",
   "metadata": {},
   "outputs": [
    {
     "name": "stdout",
     "output_type": "stream",
     "text": [
      "['\\n', 'for', ' i', ' in', ' range', '(', '1', ',', ' 101', '):', '\\n   ', ' if', ' i', ' %', ' 3', ' ==', ' 0', ' and', ' i', ' %', ' 5', ' ==', ' 0', ':', '\\n       ', ' print', '(\"', 'FizzBuzz', '\")', '\\n   ', ' elif', ' i', ' %', ' 3', ' ==', ' 0', ':', '\\n       ', ' print', '(\"', 'Fizz', '\")', '\\n   ', ' elif', ' i', ' %', ' 5', ' ==', ' 0', ':', '\\n       ', ' print', '(\"', 'Buzz', '\")', '\\n   ', ' else', ':', '\\n       ', ' print', '(', 'i', ')', '\\n']\n"
     ]
    }
   ],
   "source": [
    "example = \"\"\"\n",
    "for i in range(1, 101):\n",
    "    if i % 3 == 0 and i % 5 == 0:\n",
    "        print(\"FizzBuzz\")\n",
    "    elif i % 3 == 0:\n",
    "        print(\"Fizz\")\n",
    "    elif i % 5 == 0:\n",
    "        print(\"Buzz\")\n",
    "    else:\n",
    "        print(i)\n",
    "\"\"\"\n",
    "print(re.findall(gpt2pat, example))"
   ]
  },
  {
   "cell_type": "code",
   "execution_count": 17,
   "id": "ea51f54b-eaf3-46d3-be09-433537d952d1",
   "metadata": {},
   "outputs": [
    {
     "name": "stdout",
     "output_type": "stream",
     "text": [
      "[220, 220, 220, 23748, 995, 10185]\n",
      "[262, 24748, 1917, 12340]\n"
     ]
    }
   ],
   "source": [
    "import tiktoken\n",
    "\n",
    "# GPT-2 (does not merge spaces)\n",
    "enc = tiktoken.get_encoding(\"gpt2\")\n",
    "print(enc.encode(\"    hello world!!!\"))\n",
    "\n",
    "# GPT-4 (merges spaces)\n",
    "enc = tiktoken.get_encoding(\"cl100k_base\")\n",
    "print(enc.encode(\"    hello world!!!\"))"
   ]
  },
  {
   "cell_type": "code",
   "execution_count": 18,
   "id": "82c0e309-a558-4482-9ead-ce906491c77b",
   "metadata": {},
   "outputs": [
    {
     "name": "stdout",
     "output_type": "stream",
     "text": [
      "--2025-02-06 12:54:58--  https://openaipublic.blob.core.windows.net/gpt-2/models/1558M/vocab.bpe\n",
      "Resolving openaipublic.blob.core.windows.net... 57.150.97.129\n",
      "connected. to openaipublic.blob.core.windows.net|57.150.97.129|:443... \n",
      "HTTP request sent, awaiting response... 200 OK\n",
      "Length: 456318 (446K) [application/octet-stream]\n",
      "Saving to: ‘vocab.bpe.1’\n",
      "\n",
      "vocab.bpe.1         100%[===================>] 445.62K  1.45MB/s    in 0.3s    \n",
      "\n",
      "2025-02-06 12:54:59 (1.45 MB/s) - ‘vocab.bpe.1’ saved [456318/456318]\n",
      "\n",
      "--2025-02-06 12:54:59--  https://openaipublic.blob.core.windows.net/gpt-2/models/1558M/encoder.json\n",
      "Resolving openaipublic.blob.core.windows.net... 57.150.97.129\n",
      "connected. to openaipublic.blob.core.windows.net|57.150.97.129|:443... \n",
      "HTTP request sent, awaiting response... 200 OK\n",
      "Length: 1042301 (1018K) [application/json]\n",
      "Saving to: ‘encoder.json.1’\n",
      "\n",
      "encoder.json.1      100%[===================>]   1018K  2.37MB/s    in 0.4s    \n",
      "\n",
      "2025-02-06 12:55:00 (2.37 MB/s) - ‘encoder.json.1’ saved [1042301/1042301]\n",
      "\n"
     ]
    }
   ],
   "source": [
    "!wget https://openaipublic.blob.core.windows.net/gpt-2/models/1558M/vocab.bpe\n",
    "!wget https://openaipublic.blob.core.windows.net/gpt-2/models/1558M/encoder.json"
   ]
  },
  {
   "cell_type": "code",
   "execution_count": 19,
   "id": "e069bccf-04b2-451f-97d8-9b7ad533432a",
   "metadata": {},
   "outputs": [],
   "source": [
    "import os, json\n",
    "\n",
    "with open('encoder.json', 'r') as f:\n",
    "    encoder = json.load(f) # <--- ~equivalent to our \"vocab\"\n",
    "\n",
    "with open('vocab.bpe', 'r', encoding=\"utf-8\") as f:\n",
    "    bpe_data = f.read()\n",
    "bpe_merges = [tuple(merge_str.split()) for merge_str in bpe_data.split('\\n')[1:-1]]\n",
    "# ^---- ~equivalent to our \"merges\"\n"
   ]
  },
  {
   "cell_type": "markdown",
   "id": "51d0529e-1fac-479c-aaa0-1ca7e822590e",
   "metadata": {},
   "source": [
    "### special tokens"
   ]
  },
  {
   "cell_type": "code",
   "execution_count": 26,
   "id": "30d3caf6-9476-4f75-af4f-43dcb514067d",
   "metadata": {},
   "outputs": [
    {
     "data": {
      "text/plain": [
       "50257"
      ]
     },
     "execution_count": 26,
     "metadata": {},
     "output_type": "execute_result"
    }
   ],
   "source": [
    "len(encoder) # 256 raw byte tokens, 50,000 merges. + 1 special token"
   ]
  },
  {
   "cell_type": "code",
   "execution_count": 29,
   "id": "67ed8fa3-60a6-44c3-ba2b-9bf52c42a1a7",
   "metadata": {},
   "outputs": [
    {
     "data": {
      "text/plain": [
       "50256"
      ]
     },
     "execution_count": 29,
     "metadata": {},
     "output_type": "execute_result"
    }
   ],
   "source": [
    "encoder['<|endoftext|>']"
   ]
  },
  {
   "cell_type": "markdown",
   "id": "5844f86f-81bf-4ffa-8638-8c1cb53ca89e",
   "metadata": {},
   "source": [
    "### minbpe exercise\n",
    "\n",
    "At this point you have everything you need to build your own GPT-4 tokenizer. This is the [exercise progression](https://github.com/karpathy/minbpe/blob/master/exercise.md) you may wish to follow. You'll note that it is part of the [minbpe](https://github.com/karpathy/minbpe) repo, which is the solution to that exercise, and is a cleaned up version of the code above."
   ]
  },
  {
   "cell_type": "code",
   "execution_count": null,
   "id": "9d639aa9-666d-4c29-9957-7ee4d9ad48ac",
   "metadata": {},
   "outputs": [],
   "source": []
  }
 ],
 "metadata": {
  "kernelspec": {
   "display_name": "Python (ml_learning_venv)",
   "language": "python",
   "name": "ml_learning_venv"
  },
  "language_info": {
   "codemirror_mode": {
    "name": "ipython",
    "version": 3
   },
   "file_extension": ".py",
   "mimetype": "text/x-python",
   "name": "python",
   "nbconvert_exporter": "python",
   "pygments_lexer": "ipython3",
   "version": "3.10.16"
  }
 },
 "nbformat": 4,
 "nbformat_minor": 5
}
