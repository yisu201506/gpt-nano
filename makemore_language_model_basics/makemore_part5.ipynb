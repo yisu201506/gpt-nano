{
 "cells": [
  {
   "cell_type": "markdown",
   "id": "84e2bffc-7de5-4d61-89c9-640f60fa42d1",
   "metadata": {},
   "source": [
    "# Makemore: part5 WaveNet"
   ]
  },
  {
   "cell_type": "code",
   "execution_count": 1,
   "id": "a0056b10-7669-4868-ab46-35ae025672fc",
   "metadata": {},
   "outputs": [],
   "source": [
    "import torch\n",
    "import torch.nn.functional as F\n",
    "import matplotlib.pyplot as plt # for making figures\n",
    "%matplotlib inline"
   ]
  },
  {
   "cell_type": "code",
   "execution_count": 2,
   "id": "0c1d781c-924b-4f2d-bdc1-31016fe95290",
   "metadata": {},
   "outputs": [
    {
     "name": "stdout",
     "output_type": "stream",
     "text": [
      "32033\n",
      "15\n",
      "['emma', 'olivia', 'ava', 'isabella', 'sophia', 'charlotte', 'mia', 'amelia']\n"
     ]
    }
   ],
   "source": [
    "# read in all the words\n",
    "words = open('names.txt', 'r').read().splitlines()\n",
    "print(len(words))\n",
    "print(max(len(w) for w in words))\n",
    "print(words[:8])"
   ]
  },
  {
   "cell_type": "code",
   "execution_count": 3,
   "id": "2121e3bf-0646-46b3-b01a-f15cec2452c0",
   "metadata": {},
   "outputs": [
    {
     "name": "stdout",
     "output_type": "stream",
     "text": [
      "{1: 'a', 2: 'b', 3: 'c', 4: 'd', 5: 'e', 6: 'f', 7: 'g', 8: 'h', 9: 'i', 10: 'j', 11: 'k', 12: 'l', 13: 'm', 14: 'n', 15: 'o', 16: 'p', 17: 'q', 18: 'r', 19: 's', 20: 't', 21: 'u', 22: 'v', 23: 'w', 24: 'x', 25: 'y', 26: 'z', 0: '.'}\n",
      "27\n"
     ]
    }
   ],
   "source": [
    "# build the vocabulary of characters and mappings to/from integers\n",
    "chars = sorted(list(set(''.join(words))))\n",
    "stoi = {s:i+1 for i,s in enumerate(chars)}\n",
    "stoi['.'] = 0\n",
    "itos = {i:s for s,i in stoi.items()}\n",
    "vocab_size = len(itos)\n",
    "print(itos)\n",
    "print(vocab_size)"
   ]
  },
  {
   "cell_type": "code",
   "execution_count": 4,
   "id": "b565369b-8cdc-43bd-b1fc-a73a48ce0bb9",
   "metadata": {},
   "outputs": [
    {
     "name": "stdout",
     "output_type": "stream",
     "text": [
      "torch.Size([182625, 8]) torch.Size([182625])\n",
      "torch.Size([22655, 8]) torch.Size([22655])\n",
      "torch.Size([22866, 8]) torch.Size([22866])\n"
     ]
    }
   ],
   "source": [
    "# build the dataset\n",
    "block_size = 8 # context length: how many characters do we take to predict the next one?\n",
    "\n",
    "def build_dataset(words):  \n",
    "  X, Y = [], []\n",
    "  \n",
    "  for w in words:\n",
    "    context = [0] * block_size\n",
    "    for ch in w + '.':\n",
    "      ix = stoi[ch]\n",
    "      X.append(context)\n",
    "      Y.append(ix)\n",
    "      context = context[1:] + [ix] # crop and append\n",
    "\n",
    "  X = torch.tensor(X)\n",
    "  Y = torch.tensor(Y)\n",
    "  print(X.shape, Y.shape)\n",
    "  return X, Y\n",
    "\n",
    "import random\n",
    "random.seed(42)\n",
    "random.shuffle(words)\n",
    "n1 = int(0.8*len(words))\n",
    "n2 = int(0.9*len(words))\n",
    "\n",
    "Xtr,  Ytr  = build_dataset(words[:n1])     # 80%\n",
    "Xdev, Ydev = build_dataset(words[n1:n2])   # 10%\n",
    "Xte,  Yte  = build_dataset(words[n2:])     # 10%"
   ]
  },
  {
   "cell_type": "code",
   "execution_count": 5,
   "id": "de161a8f-51b1-4df6-aef1-9f5fc78df543",
   "metadata": {},
   "outputs": [
    {
     "name": "stdout",
     "output_type": "stream",
     "text": [
      "........ --> y\n",
      ".......y --> u\n",
      "......yu --> h\n",
      ".....yuh --> e\n",
      "....yuhe --> n\n",
      "...yuhen --> g\n",
      "..yuheng --> .\n",
      "........ --> d\n",
      ".......d --> i\n",
      "......di --> o\n",
      ".....dio --> n\n",
      "....dion --> d\n",
      "...diond --> r\n",
      "..diondr --> e\n",
      ".diondre --> .\n",
      "........ --> x\n",
      ".......x --> a\n",
      "......xa --> v\n",
      ".....xav --> i\n",
      "....xavi --> e\n"
     ]
    }
   ],
   "source": [
    "for x,y in zip(Xtr[:20], Ytr[:20]):\n",
    "  print(''.join(itos[ix.item()] for ix in x), '-->', itos[y.item()])"
   ]
  },
  {
   "cell_type": "code",
   "execution_count": 23,
   "id": "c35376c8-cc50-458d-b00a-9811c5956817",
   "metadata": {},
   "outputs": [],
   "source": [
    "# Near copy paste of the layers we have developed in Part 3\n",
    "\n",
    "# -----------------------------------------------------------------------------------------------\n",
    "class Linear:\n",
    "  \n",
    "  def __init__(self, fan_in, fan_out, bias=True):\n",
    "    self.weight = torch.randn((fan_in, fan_out)) / fan_in**0.5 # note: kaiming init\n",
    "    self.bias = torch.zeros(fan_out) if bias else None\n",
    "  \n",
    "  def __call__(self, x):\n",
    "    self.out = x @ self.weight\n",
    "    if self.bias is not None:\n",
    "      self.out += self.bias\n",
    "    return self.out\n",
    "  \n",
    "  def parameters(self):\n",
    "    return [self.weight] + ([] if self.bias is None else [self.bias])\n",
    "\n",
    "# -----------------------------------------------------------------------------------------------\n",
    "class BatchNorm1d:\n",
    "  \n",
    "  def __init__(self, dim, eps=1e-5, momentum=0.1):\n",
    "    self.eps = eps\n",
    "    self.momentum = momentum\n",
    "    self.training = True\n",
    "    # parameters (trained with backprop)\n",
    "    self.gamma = torch.ones(dim)\n",
    "    self.beta = torch.zeros(dim)\n",
    "    # buffers (trained with a running 'momentum update')\n",
    "    self.running_mean = torch.zeros(dim)\n",
    "    self.running_var = torch.ones(dim)\n",
    "  \n",
    "  def __call__(self, x):\n",
    "    # calculate the forward pass\n",
    "    if self.training:\n",
    "      if x.ndim == 2:\n",
    "        dim = 0\n",
    "      elif x.ndim == 3:\n",
    "        dim = (0,1)\n",
    "      xmean = x.mean(dim, keepdim=True) # batch mean\n",
    "      xvar = x.var(dim, keepdim=True) # batch variance\n",
    "    else:\n",
    "      xmean = self.running_mean\n",
    "      xvar = self.running_var\n",
    "    xhat = (x - xmean) / torch.sqrt(xvar + self.eps) # normalize to unit variance\n",
    "    self.out = self.gamma * xhat + self.beta\n",
    "    # update the buffers\n",
    "    if self.training:\n",
    "      with torch.no_grad():\n",
    "        self.running_mean = (1 - self.momentum) * self.running_mean + self.momentum * xmean\n",
    "        self.running_var = (1 - self.momentum) * self.running_var + self.momentum * xvar\n",
    "    return self.out\n",
    "  \n",
    "  def parameters(self):\n",
    "    return [self.gamma, self.beta]\n",
    "\n",
    "# -----------------------------------------------------------------------------------------------\n",
    "class Tanh:\n",
    "  def __call__(self, x):\n",
    "    self.out = torch.tanh(x)\n",
    "    return self.out\n",
    "  def parameters(self):\n",
    "    return []\n",
    "\n",
    "# -----------------------------------------------------------------------------------------------\n",
    "class Embedding:\n",
    "  \n",
    "  def __init__(self, num_embeddings, embedding_dim):\n",
    "    self.weight = torch.randn((num_embeddings, embedding_dim))\n",
    "    \n",
    "  def __call__(self, IX):\n",
    "    self.out = self.weight[IX]\n",
    "    return self.out\n",
    "  \n",
    "  def parameters(self):\n",
    "    return [self.weight]\n",
    "\n",
    "# -----------------------------------------------------------------------------------------------\n",
    "\n",
    "class Flatten:\n",
    "\n",
    "    def __call__(self, x):\n",
    "        self.out = x.view(x.shape[0], -1)\n",
    "        return self.out\n",
    "        \n",
    "    def parameters(self):\n",
    "        return []\n",
    "      \n",
    "class FlattenConsecutive:\n",
    "  \n",
    "  def __init__(self, n):\n",
    "    self.n = n\n",
    "    \n",
    "  def __call__(self, x):\n",
    "    B, T, C = x.shape\n",
    "    x = x.view(B, T//self.n, C*self.n)\n",
    "    if x.shape[1] == 1:\n",
    "      x = x.squeeze(1)\n",
    "    self.out = x\n",
    "    return self.out\n",
    "  \n",
    "  def parameters(self):\n",
    "    return []\n",
    "\n",
    "# -----------------------------------------------------------------------------------------------\n",
    "class Sequential:\n",
    "  \n",
    "  def __init__(self, layers):\n",
    "    self.layers = layers\n",
    "  \n",
    "  def __call__(self, x):\n",
    "    for layer in self.layers:\n",
    "      x = layer(x)\n",
    "    self.out = x\n",
    "    return self.out\n",
    "  \n",
    "  def parameters(self):\n",
    "    # get parameters of all layers and stretch them out into one list\n",
    "    return [p for layer in self.layers for p in layer.parameters()]"
   ]
  },
  {
   "cell_type": "code",
   "execution_count": 24,
   "id": "17693200-e3aa-4564-af06-4064af12be22",
   "metadata": {},
   "outputs": [],
   "source": [
    "torch.manual_seed(42); # seed rng for reproducibility"
   ]
  },
  {
   "cell_type": "code",
   "execution_count": 44,
   "id": "24487e24-3059-421f-a216-8a04df284e53",
   "metadata": {},
   "outputs": [
    {
     "name": "stdout",
     "output_type": "stream",
     "text": [
      "76579\n"
     ]
    }
   ],
   "source": [
    "n_embd =24 # the dimensionality of the character embedding vectors\n",
    "n_hidden = 128 # the number of neurons in the hidden layer of the MLP\n",
    "# C = torch.randn((vocab_size, n_embd))\n",
    "model = Sequential([\n",
    "    Embedding(vocab_size, n_embd),\n",
    "    FlattenConsecutive(2), Linear(n_embd * 2, n_hidden, bias=False), BatchNorm1d(n_hidden), Tanh(), \n",
    "    FlattenConsecutive(2), Linear(n_hidden * 2, n_hidden, bias=False), BatchNorm1d(n_hidden), Tanh(), \n",
    "    FlattenConsecutive(2), Linear(n_hidden * 2, n_hidden, bias=False), BatchNorm1d(n_hidden), Tanh(), \n",
    "    Linear(n_hidden, vocab_size)\n",
    "])\n",
    "\n",
    "# parameter init\n",
    "with torch.no_grad():\n",
    "  model.layers[-1].weight *= 0.1 # last layer make less confident\n",
    "\n",
    "parameters = model.parameters()\n",
    "\n",
    "print(sum(p.nelement() for p in parameters)) # number of parameters in total\n",
    "for p in model.parameters():\n",
    "    p.requires_grad = True"
   ]
  },
  {
   "cell_type": "code",
   "execution_count": 45,
   "id": "7d5e0f69-5ec0-4283-bef9-a869d5366934",
   "metadata": {},
   "outputs": [
    {
     "name": "stdout",
     "output_type": "stream",
     "text": [
      "CPU times: user 2 μs, sys: 2 μs, total: 4 μs\n",
      "Wall time: 6.91 μs\n",
      "      0/ 250000: train 3.2563 val.3.2555\n",
      "   5000/ 250000: train 2.1666 val.2.1852\n",
      "  10000/ 250000: train 2.1123 val.2.1454\n",
      "  15000/ 250000: train 2.0654 val.2.1115\n",
      "  20000/ 250000: train 2.0625 val.2.1189\n",
      "  25000/ 250000: train 2.0295 val.2.0922\n",
      "  30000/ 250000: train 2.0021 val.2.0698\n",
      "  35000/ 250000: train 1.9867 val.2.0628\n",
      "  40000/ 250000: train 1.9884 val.2.0741\n",
      "  45000/ 250000: train 1.9663 val.2.0600\n",
      "  50000/ 250000: train 1.9678 val.2.0658\n",
      "  55000/ 250000: train 1.9448 val.2.0515\n",
      "  60000/ 250000: train 1.9391 val.2.0502\n",
      "  65000/ 250000: train 1.9275 val.2.0476\n",
      "  70000/ 250000: train 1.9250 val.2.0429\n",
      "  75000/ 250000: train 1.9246 val.2.0528\n",
      "  80000/ 250000: train 1.9157 val.2.0513\n",
      "  85000/ 250000: train 1.9135 val.2.0484\n",
      "  90000/ 250000: train 1.8997 val.2.0439\n",
      "  95000/ 250000: train 1.9117 val.2.0585\n",
      " 100000/ 250000: train 1.8979 val.2.0420\n",
      " 105000/ 250000: train 1.8880 val.2.0421\n",
      " 110000/ 250000: train 1.8906 val.2.0499\n",
      " 115000/ 250000: train 1.8900 val.2.0490\n",
      " 120000/ 250000: train 1.8795 val.2.0450\n",
      " 125000/ 250000: train 1.8682 val.2.0366\n",
      " 130000/ 250000: train 1.8770 val.2.0480\n",
      " 135000/ 250000: train 1.8726 val.2.0492\n",
      " 140000/ 250000: train 1.8680 val.2.0499\n",
      " 145000/ 250000: train 1.8637 val.2.0442\n",
      " 150000/ 250000: train 1.8565 val.2.0389\n",
      " 155000/ 250000: train 1.7990 val.1.9927\n",
      " 160000/ 250000: train 1.7905 val.1.9904\n",
      " 165000/ 250000: train 1.7859 val.1.9907\n",
      " 170000/ 250000: train 1.7817 val.1.9908\n",
      " 175000/ 250000: train 1.7799 val.1.9937\n",
      " 180000/ 250000: train 1.7778 val.1.9941\n",
      " 185000/ 250000: train 1.7749 val.1.9928\n",
      " 190000/ 250000: train 1.7729 val.1.9912\n",
      " 195000/ 250000: train 1.7713 val.1.9917\n",
      " 200000/ 250000: train 1.7708 val.1.9939\n",
      " 205000/ 250000: train 1.7696 val.1.9942\n",
      " 210000/ 250000: train 1.7677 val.1.9956\n",
      " 215000/ 250000: train 1.7666 val.1.9939\n",
      " 220000/ 250000: train 1.7657 val.1.9969\n",
      " 225000/ 250000: train 1.7651 val.1.9967\n",
      " 230000/ 250000: train 1.7636 val.1.9965\n",
      " 235000/ 250000: train 1.7619 val.1.9962\n",
      " 240000/ 250000: train 1.7606 val.1.9948\n",
      " 245000/ 250000: train 1.7607 val.1.9977\n"
     ]
    }
   ],
   "source": [
    "%time\n",
    "\n",
    "# same optimization as last time\n",
    "max_steps = 250000\n",
    "batch_size = 32\n",
    "lossi = []\n",
    "losstrains = []\n",
    "lossdevs = []\n",
    "ud = []\n",
    "\n",
    "for i in range(max_steps):\n",
    "  \n",
    "    # minibatch construct\n",
    "    ix = torch.randint(0, Xtr.shape[0], (batch_size,))\n",
    "    Xb, Yb = Xtr[ix], Ytr[ix] # batch X,Y\n",
    "    # forward pass\n",
    "    logits = model(Xb)\n",
    "    loss = F.cross_entropy(logits, Yb) # loss function\n",
    "    \n",
    "    # backward pass\n",
    "    for p in parameters:\n",
    "        p.grad = None\n",
    "    loss.backward()\n",
    "    \n",
    "    # update\n",
    "    if i < 150000:\n",
    "        lr = 0.1\n",
    "    else:\n",
    "        lr = 0.01 # step learning rate decay\n",
    "    for ix, p in enumerate(parameters):\n",
    "        p.data += -lr * p.grad\n",
    "    \n",
    "    # track stats\n",
    "    if i % 5000 == 0: # print every once in a while\n",
    "        # print(f'{i:7d}/{max_steps:7d}: {loss.item():.4f}')\n",
    "\n",
    "        with torch.no_grad():\n",
    "            logits_train = model(Xtr)\n",
    "            losstrain = F.cross_entropy(logits_train, Ytr)\n",
    "            logits_dev = model(Xdev)\n",
    "            lossdev = F.cross_entropy(logits_dev, Ydev)\n",
    "            losstrains.append(losstrain.item())\n",
    "            lossdevs.append(lossdev.item())\n",
    "            print(f'{i:7d}/{max_steps:7d}: train {losstrain.item():.4f} val.{lossdev.item():.4f}')\n",
    "            \n",
    "    lossi.append(loss.log10().item())\n",
    "\n",
    "    with torch.no_grad():\n",
    "        ud.append([(lr*p.grad.std() / p.data.std()).log10().item() for p in parameters])\n",
    "        \n",
    "\n",
    "    # if i >= 1000:\n",
    "    #     break\n",
    "    # break\n",
    "    "
   ]
  },
  {
   "cell_type": "code",
   "execution_count": 39,
   "id": "060da37f-add1-48fa-8e72-1f7f22582872",
   "metadata": {},
   "outputs": [
    {
     "name": "stderr",
     "output_type": "stream",
     "text": [
      "/var/folders/8x/wpzm7f6s11b6xfkh92wr20yh0000gp/T/ipykernel_7425/328698954.py:1: UserWarning: To copy construct from a tensor, it is recommended to use sourceTensor.clone().detach() or sourceTensor.clone().detach().requires_grad_(True), rather than torch.tensor(sourceTensor).\n",
      "  plt.plot(torch.tensor(loss).view(-1, 1000).mean(dim=1))\n"
     ]
    },
    {
     "ename": "RuntimeError",
     "evalue": "shape '[-1, 1000]' is invalid for input of size 1",
     "output_type": "error",
     "traceback": [
      "\u001b[0;31m---------------------------------------------------------------------------\u001b[0m",
      "\u001b[0;31mRuntimeError\u001b[0m                              Traceback (most recent call last)",
      "Cell \u001b[0;32mIn[39], line 1\u001b[0m\n\u001b[0;32m----> 1\u001b[0m plt\u001b[38;5;241m.\u001b[39mplot(\u001b[43mtorch\u001b[49m\u001b[38;5;241;43m.\u001b[39;49m\u001b[43mtensor\u001b[49m\u001b[43m(\u001b[49m\u001b[43mloss\u001b[49m\u001b[43m)\u001b[49m\u001b[38;5;241;43m.\u001b[39;49m\u001b[43mview\u001b[49m\u001b[43m(\u001b[49m\u001b[38;5;241;43m-\u001b[39;49m\u001b[38;5;241;43m1\u001b[39;49m\u001b[43m,\u001b[49m\u001b[43m \u001b[49m\u001b[38;5;241;43m1000\u001b[39;49m\u001b[43m)\u001b[49m\u001b[38;5;241m.\u001b[39mmean(dim\u001b[38;5;241m=\u001b[39m\u001b[38;5;241m1\u001b[39m))\n",
      "\u001b[0;31mRuntimeError\u001b[0m: shape '[-1, 1000]' is invalid for input of size 1"
     ]
    }
   ],
   "source": [
    "plt.plot(torch.tensor(loss).view(-1, 1000).mean(dim=1))"
   ]
  },
  {
   "cell_type": "code",
   "execution_count": 46,
   "id": "29616e24-cc43-4833-890d-d183fcc357f7",
   "metadata": {},
   "outputs": [],
   "source": [
    "for layer in model.layers:\n",
    "    layer.training = False"
   ]
  },
  {
   "cell_type": "code",
   "execution_count": 47,
   "id": "45de6265-4bf1-46ad-87ab-2680a6c9cabd",
   "metadata": {},
   "outputs": [
    {
     "name": "stdout",
     "output_type": "stream",
     "text": [
      "train 1.7612354755401611\n",
      "val 2.000199794769287\n"
     ]
    }
   ],
   "source": [
    "# evaluate the loss\n",
    "@torch.no_grad() # this decorator disables gradient tracking inside pytorch\n",
    "def split_loss(split):\n",
    "    x,y = {\n",
    "        'train': (Xtr, Ytr),\n",
    "        'val': (Xdev, Ydev),\n",
    "        'test': (Xte, Yte),\n",
    "    }[split]\n",
    "    logits = model(x)\n",
    "    loss = F.cross_entropy(logits, y)\n",
    "    print(split, loss.item())\n",
    "\n",
    "split_loss('train')\n",
    "split_loss('val')"
   ]
  },
  {
   "cell_type": "code",
   "execution_count": null,
   "id": "e056eac3-8394-42ff-b909-99c241ff33d2",
   "metadata": {},
   "outputs": [],
   "source": [
    "# Naively scale to 8 characters\n",
    "train 1.9163438081741333\n",
    "val 2.034247875213623\n",
    "\n",
    "train 1.9367018938064575\n",
    "val 2.02449369430542"
   ]
  },
  {
   "cell_type": "markdown",
   "id": "0facee04-7963-458b-97ce-c150278d64f8",
   "metadata": {},
   "source": [
    "## performance log\n",
    "- original (3 character context + 200 hidden neurons, 12K params): train 2.058, val 2.105\n",
    "- context: 3 -> 8 (22K params): train 1.916, val 2.034\n",
    "- flat -> hierarchical (22K params): train 1.937, val 2.024\n",
    "- fix bug in batchnorm: train 1.911, val 2.0201\n",
    "- scale up the network: n_embd 24, n_hidden 128 (76K params): train 1.766, val 1.985\n"
   ]
  },
  {
   "cell_type": "code",
   "execution_count": 16,
   "id": "e0c16492-ca63-4815-a12a-4354218d716e",
   "metadata": {},
   "outputs": [
    {
     "name": "stdout",
     "output_type": "stream",
     "text": [
      "whaliosan.\n",
      "dylina.\n",
      "jenelia.\n",
      "kailot.\n",
      "benoderia.\n",
      "elexten.\n",
      "elizan.\n",
      "aurlend.\n",
      "zeyelle.\n",
      "isabe.\n",
      "sifrand.\n",
      "zaryiak.\n",
      "emmetric.\n",
      "ennahanda.\n",
      "jasit.\n",
      "leiley.\n",
      "klowyn.\n",
      "aidaliel.\n",
      "sharuson.\n",
      "cobusius.\n"
     ]
    }
   ],
   "source": [
    "# sample from the model\n",
    "\n",
    "for _ in range(20):\n",
    "    \n",
    "    out = []\n",
    "    context = [0] * block_size # initialize with all ...\n",
    "    while True:\n",
    "        # ------------\n",
    "        # forward pass:\n",
    "        logit = model(torch.tensor([context]))\n",
    "        # Sample\n",
    "        probs = F.softmax(logit, dim=1)\n",
    "        ix = torch.multinomial(probs, num_samples=1).item()\n",
    "        context = context[1:] + [ix]\n",
    "        out.append(ix)\n",
    "        if ix == 0:\n",
    "            break\n",
    "    \n",
    "    print(''.join(itos[i] for i in out))"
   ]
  },
  {
   "cell_type": "code",
   "execution_count": null,
   "id": "639ecbf3-9c69-4c8e-a494-3ea7a4bca355",
   "metadata": {},
   "outputs": [],
   "source": []
  },
  {
   "cell_type": "code",
   "execution_count": null,
   "id": "0d89bbb4-aa89-4ff7-88d1-6e3667cd17fc",
   "metadata": {},
   "outputs": [],
   "source": []
  }
 ],
 "metadata": {
  "kernelspec": {
   "display_name": "Python (ml_learning_venv)",
   "language": "python",
   "name": "ml_learning_venv"
  },
  "language_info": {
   "codemirror_mode": {
    "name": "ipython",
    "version": 3
   },
   "file_extension": ".py",
   "mimetype": "text/x-python",
   "name": "python",
   "nbconvert_exporter": "python",
   "pygments_lexer": "ipython3",
   "version": "3.10.16"
  }
 },
 "nbformat": 4,
 "nbformat_minor": 5
}
